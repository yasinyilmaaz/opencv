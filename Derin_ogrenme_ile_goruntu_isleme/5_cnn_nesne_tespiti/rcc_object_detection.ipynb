{
 "cells": [
  {
   "cell_type": "code",
   "execution_count": 1,
   "metadata": {},
   "outputs": [],
   "source": [
    "import cv2\n",
    "import pickle\n",
    "import numpy as np\n",
    "import random\n",
    "import os\n",
    "from tensorflow.keras.preprocessing.image import img_to_array"
   ]
  },
  {
   "cell_type": "code",
   "execution_count": 4,
   "metadata": {},
   "outputs": [
    {
     "name": "stdout",
     "output_type": "stream",
     "text": [
      "SS\n",
      "sınıflandırma\n",
      "\u001b[1m4/4\u001b[0m \u001b[32m━━━━━━━━━━━━━━━━━━━━\u001b[0m\u001b[37m\u001b[0m \u001b[1m0s\u001b[0m 13ms/step \n"
     ]
    }
   ],
   "source": [
    "image = cv2.imread(os.path.join(os.path.dirname(os.getcwd()), \"media\",\"mnist.png\"))\n",
    "ss = cv2.ximgproc.segmentation.createSelectiveSearchSegmentation()\n",
    "ss.setBaseImage(image)\n",
    "ss.switchToSelectiveSearchQuality()\n",
    "\n",
    "print(\"SS\")\n",
    "rects = ss.process()\n",
    "\n",
    "proposals = []\n",
    "boxes = []\n",
    "output = image.copy()\n",
    "\n",
    "for (x,y,w,h) in rects[:100]:\n",
    "    \n",
    "    color = [random.randint(0,255) for j in range(0,3)]\n",
    "    cv2.rectangle(output, (x,y), (x+w,y+h),color, 2)\n",
    "    \n",
    "    roi = image[y:y+h,x:x+w]\n",
    "    roi = cv2.resize(roi, dsize=(32,32), interpolation = cv2.INTER_LANCZOS4)\n",
    "    roi = cv2.cvtColor(roi, cv2.COLOR_BGR2GRAY)\n",
    "    \n",
    "    roi = img_to_array(roi)\n",
    "    \n",
    "    proposals.append(roi)\n",
    "    boxes.append((x,y,w+x,h+y))\n",
    "    \n",
    "proposals = np.array(proposals, dtype = \"float64\")    \n",
    "boxes = np.array(boxes, dtype = \"int32\")    \n",
    "\n",
    "print(\"sınıflandırma\")\n",
    "pickle_in = open((os.path.join(os.getcwd(), \"model_trained.p\")), \"rb\")   \n",
    "model = pickle.load(pickle_in)\n",
    "proba = model.predict(proposals)\n",
    "\n",
    "number_list = []\n",
    "idx = []\n",
    "for i in range(len(proba)):\n",
    "    \n",
    "    max_prob = np.max(proba[i,:])\n",
    "    if max_prob > 0.95:\n",
    "        idx.append(i)\n",
    "        number_list.append(np.argmax(proba[i]))\n",
    "        \n",
    "for i in range(len(number_list)):\n",
    "    \n",
    "    j = idx[i]\n",
    "    cv2.rectangle(image, (boxes[j,0], boxes[j,1]), (boxes[j,2],boxes[j,3]),[0,0,255],2)\n",
    "    cv2.putText(image, str(np.argmax(proba[j])),(boxes[j,0] + 5, boxes[j,1] +5 ), cv2.FONT_HERSHEY_COMPLEX,1.5,(0,255,0))\n",
    "    \n",
    "cv2.imshow(\"Image\",image)\n",
    "cv2.waitKey(0)\n",
    "cv2.destroyAllWindows()"
   ]
  }
 ],
 "metadata": {
  "kernelspec": {
   "display_name": "Python 3",
   "language": "python",
   "name": "python3"
  },
  "language_info": {
   "codemirror_mode": {
    "name": "ipython",
    "version": 3
   },
   "file_extension": ".py",
   "mimetype": "text/x-python",
   "name": "python",
   "nbconvert_exporter": "python",
   "pygments_lexer": "ipython3",
   "version": "3.12.5"
  }
 },
 "nbformat": 4,
 "nbformat_minor": 2
}
