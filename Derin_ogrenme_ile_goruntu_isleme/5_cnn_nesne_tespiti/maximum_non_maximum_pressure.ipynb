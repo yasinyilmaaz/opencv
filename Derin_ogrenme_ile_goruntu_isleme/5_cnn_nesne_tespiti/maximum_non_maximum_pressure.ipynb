{
 "cells": [
  {
   "cell_type": "markdown",
   "metadata": {},
   "source": [
    "MAKSİMUM OLMAYAN BASTIRMA"
   ]
  },
  {
   "cell_type": "markdown",
   "metadata": {},
   "source": [
    "Eğer bir resim üstünde aynı nesneyi yanyana birden fazla kayan pencere bulursa\n"
   ]
  },
  {
   "cell_type": "markdown",
   "metadata": {},
   "source": [
    "\n",
    "Bunlar arasından en uyguu seçilir ve sadece o kullanılır."
   ]
  },
  {
   "cell_type": "code",
   "execution_count": 1,
   "metadata": {},
   "outputs": [],
   "source": [
    "import numpy as np\n",
    "import cv2"
   ]
  },
  {
   "cell_type": "code",
   "execution_count": 1,
   "metadata": {},
   "outputs": [],
   "source": [
    "def non_maxi_suppression(boxes, probs=None, overlapThresh=0.3):\n",
    "    #overlapThresh: kutuların ne kadar örtüşebileceğini belirleyen eşik değeri ayarlarnır\n",
    "    print(\"sdsd\")\n",
    "    # kutu seçimi yapama durumunda boş liste döndürüyor\n",
    "    if len(boxes) == 0:\n",
    "        return []\n",
    "    if boxes.dtype.kind == \"i\": # gele nkutunun veri tipi int ise floata çeviriyoruz.\n",
    "        boxes = boxes.astype(\"float\")\n",
    "\n",
    "    x1 = boxes[:, 0] # kutuların x1 koordinatları (sol üst)\n",
    "    y1 = boxes[:, 1] # kutuların y1 koordinatları (sol üst)\n",
    "    x2 = boxes[:, 2] # kutuların x2 koordinatları (sağ alt)\n",
    "    y2 = boxes[:, 3] # kutuların y2 koordinatları (sağ alt)\n",
    "\n",
    "    area = (x2 - x1 +1) * (y2 - y1 +1)  # kutuların alanları hesaplanır\n",
    "\n",
    "    idxs = y2 # kutuların y2 koordinatlarından indexler oluşturulur\n",
    "\n",
    "    # olasılık değerleri\n",
    "\n",
    "    if probs is not None:\n",
    "        idxs = probs\n",
    "    \n",
    "    idxs = np.argsort(idxs) # indexler küçükten büyüğe sıralanır\n",
    "\n",
    "    pick = [] # kutuların seçileceği liste oluşturulur\n",
    "\n",
    "    while len(idxs) > 0:\n",
    "        last = len(idxs) - 1\n",
    "        i = idxs[last]\n",
    "        pick.append(i)\n",
    "\n",
    "        # en büyük ve en küçük x ve y değerleri bulunur\n",
    "\n",
    "        xx1 = np.maximum(x1[i], x1[idxs[:last]])\n",
    "        yy1 = np.maximum(y1[i], y1[idxs[:last]])\n",
    "        xx2 = np.minimum(x2[i], x2[idxs[:last]])\n",
    "        yy2 = np.minimum(y2[i], y2[idxs[:last]])\n",
    "\n",
    "        # w, h, bul\n",
    "\n",
    "        w = np.maximum(0, xx2- xx1 + 1)\n",
    "        h = np.maximum(0, yy2- yy1 + 1)\n",
    "\n",
    "        # overlap oranı hesaplanır\n",
    "\n",
    "        overlap = (w * h) / area[idxs[:last]]\n",
    "\n",
    "        # overlap oranı eşik değerinden altında olan kutuları listeden çıkarır\n",
    "\n",
    "        idxs = np.delete(idxs, np.concatenate(([last], np.where(overlap > overlapThresh))))\n",
    "\n",
    "    return boxes[pick].astype(\"int\")\n",
    "\n",
    "\n",
    "\n",
    "\n",
    "\n"
   ]
  }
 ],
 "metadata": {
  "kernelspec": {
   "display_name": "Python 3",
   "language": "python",
   "name": "python3"
  },
  "language_info": {
   "codemirror_mode": {
    "name": "ipython",
    "version": 3
   },
   "file_extension": ".py",
   "mimetype": "text/x-python",
   "name": "python",
   "nbconvert_exporter": "python",
   "pygments_lexer": "ipython3",
   "version": "3.12.5"
  }
 },
 "nbformat": 4,
 "nbformat_minor": 2
}
