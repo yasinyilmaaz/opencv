{
 "cells": [
  {
   "cell_type": "markdown",
   "metadata": {},
   "source": [
    "VERİ SETİ İNDİRME"
   ]
  },
  {
   "cell_type": "markdown",
   "metadata": {},
   "source": [
    "VERİ SETİ İNDİRME\n",
    "* KAGGLE (https://www.kaggle.com/search)\n",
    "* University of California Irvine (UCI) Machine Learning \n",
    "(https://archive.ics.uci.edu/)\n",
    "* Google Dataset Search (https://datasetsearch.research.google.com/)"
   ]
  },
  {
   "cell_type": "markdown",
   "metadata": {},
   "source": [
    "VERİ SETİ OLUŞTURMA\n",
    "* Kamera\n",
    "* Gogle Resimler"
   ]
  }
 ],
 "metadata": {
  "language_info": {
   "name": "python"
  }
 },
 "nbformat": 4,
 "nbformat_minor": 2
}
