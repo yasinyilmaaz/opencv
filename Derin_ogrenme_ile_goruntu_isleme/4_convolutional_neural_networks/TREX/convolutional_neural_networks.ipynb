{
 "cells": [
  {
   "cell_type": "markdown",
   "metadata": {},
   "source": [
    "Evrişimsel Sinir Ağları"
   ]
  },
  {
   "cell_type": "code",
   "execution_count": null,
   "metadata": {},
   "outputs": [],
   "source": [
    "#  Görüntü üzerinde sınıflandırma, nesne takibi ve tespiti problemlerini çözmek için özelleşmiş ağlardır.\n",
    "# öz nitelik: evrişimden başlayıp tam bağlantıya kadar olan katmanlar resimdeki özellikleri öğrenir.\n",
    "# Tam bağlantı katmanları, özellikleri sınıflandırmak için kullanılır.\n",
    "\n",
    "\n",
    "# Evrişimsel Katman: Resmin özelliklerini yani köşe kenar resmi ifade eden özelliklerin belirlenmesi ve bu sayede özellik haritalarının çıkması.\n",
    "\n",
    "# Piksel Ekleme: Erişim katmanları uygulandıkça görünntünün boyutu azalır.\n",
    "# Orjinal görüntü boyutuna dönmek için piksel ekleme yapılır.\n",
    "\n",
    "# bu ikiliden duruma göre birden çok eklenebilir.\n",
    "# Bunlar arttıkça belirlenen özelliklerin sayısı artar.\n",
    "\n",
    "# Evrişimli sinir ağları, özelliklerin konumunu ve ilişkisini korur.\n",
    "# Evrişimli sinir ağları, resimlerdeki özellikleri öğrenmek için kullanılır. Öğrenimi seviyeli olarak yapar.\n",
    "# Özellik Haritası: Evrişim Filtresi X Matrislerin Elemanları\n",
    "# Görüntü üzerinde bu çarpım gerçekleştirilir ve özellik haritası çıkarılır\n",
    "# Bu işlem ile orjinal görüntünün alanı azalır\n",
    "# Birden çok filtre kullanıldığı için birden çok özellik haritası oluşur.\n",
    "\n",
    "# Aktivasyon fonksiyonu: özellik haritalarını oluşturmak için kullanılır.\n",
    "# ReLu kullanılır\n",
    "# ReLu: negatif değerleri sıfır yapar.\n",
    "# grafikteki doğrusallığı kırar\n",
    "# Öğrenme işlemi türev alma ile gerçekleştirilir. türev sıfır olasa kadar devam eder.\n",
    "\n",
    "# *Piksel Ekleme\n",
    "# Boyutu azalan resmin etrafına 0'lardan oluşan çerçeve ekleyerek orjinal görüntü korunur.\n",
    "\n",
    "# Tam Bağlantı\n",
    "# Sınıflandırma işlemi gerçekleştirilir\n",
    "# Bir katmandaki nöronların önceki katmandaki tüm aktivasyonlarla bağlantıları vardır.\n",
    "#Gizli katman sayısı artıkça detaylandırma artar\n",
    "\n",
    "\n",
    "# Ortaklama (aşağı örnekleme ve alt örnekleme)\n",
    "#  İşlenen veride değişmeyen özellikleri belirlemek için kullanılır.\n",
    "# ezberlemeyi önler\n",
    "\n",
    "# Düzşeştirme\n",
    "# İki boyutlu veriyi vektöre hale getirme\n",
    "\n",
    "# Tam Bağlantı \n",
    "# Sınıflandırma işlemleri gerçekleştirilir.\n",
    "\n",
    "# Seyreltme\n",
    "# Rasgele olarak bazı nöronları devre dışı bırakır.\n",
    "# Bu sistem ezberlemeyi önler. \n",
    "\n",
    "# Veri Arttırma\n",
    "#Veriyi yaklaştırıp uzaklaştırma , döndürme gibi işlemlerle veriyi arttırmak istenmektedir.\n",
    "\n",
    "# Sodtmax aktivasyon fonksiyonu: Değerleri 0 ile 1 arasında olasılıksal olarak hesaplayı sağlayan fonksiyon.\n"
   ]
  }
 ],
 "metadata": {
  "language_info": {
   "name": "python"
  }
 },
 "nbformat": 4,
 "nbformat_minor": 2
}
