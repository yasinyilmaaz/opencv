{
 "cells": [
  {
   "cell_type": "code",
   "execution_count": 3,
   "metadata": {},
   "outputs": [],
   "source": [
    "import numpy as np\n",
    "import cv2\n",
    "\n",
    "def daire_ciz(event, x, y,flags, param):\n",
    "    if event == cv2.EVENT_LBUTTONDOWN:\n",
    "        cv2.circle(empty_tables, (x,y), 20, (0,255,0),thickness=-1)\n",
    "    if event == cv2.EVENT_RBUTTONDOWN:\n",
    "        cv2.circle(empty_tables, (x,y), 20, (0, 0, 255), thickness=-1)\n",
    "        \n",
    "cv2.namedWindow(winname=\"deneme\")\n",
    "\n",
    "cv2.setMouseCallback(\"deneme\", daire_ciz)\n",
    "\n",
    "\n",
    "empty_tables = np.zeros((512, 512, 3))\n",
    "\n",
    "while True:\n",
    "    cv2.imshow(\"deneme\", empty_tables)\n",
    "    \n",
    "    if cv2.waitKey(1) & 0xFF == 27:\n",
    "        break\n",
    "\n",
    "\n",
    "cv2.destroyAllWindows()"
   ]
  }
 ],
 "metadata": {
  "kernelspec": {
   "display_name": "Python 3",
   "language": "python",
   "name": "python3"
  },
  "language_info": {
   "codemirror_mode": {
    "name": "ipython",
    "version": 3
   },
   "file_extension": ".py",
   "mimetype": "text/x-python",
   "name": "python",
   "nbconvert_exporter": "python",
   "pygments_lexer": "ipython3",
   "version": "3.12.3"
  }
 },
 "nbformat": 4,
 "nbformat_minor": 2
}
