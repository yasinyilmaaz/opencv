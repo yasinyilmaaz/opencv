{
 "cells": [
  {
   "cell_type": "code",
   "execution_count": 2,
   "metadata": {},
   "outputs": [],
   "source": [
    "import cv2\n",
    "\n",
    "\n",
    "\n",
    "def draw_circle(event, x, y, flags, param):\n",
    "    global center, clicked\n",
    "    \n",
    "    if event == cv2.EVENT_LBUTTONDOWN:\n",
    "\n",
    "            center = (x, y)\n",
    "            clicked = False\n",
    "\n",
    "    elif event == cv2.EVENT_LBUTTONUP:\n",
    "            clicked = True\n",
    "    \n",
    "clicked = False\n",
    "center = (0, 0)\n",
    "\n",
    "\n",
    "cap= cv2.VideoCapture(0)\n",
    "cv2.namedWindow('MyWindow')\n",
    "cv2.setMouseCallback(\"MyWindow\", draw_circle)\n",
    "\n",
    "\n",
    "while True:\n",
    "    ret, frame = cap.read()\n",
    "    frame = cv2.resize(frame, (800, 800))\n",
    "    frame = cv2.flip(frame, 1)\n",
    "    \n",
    "    if clicked: # click olayı gerçekleştirilmiş ise\n",
    "        cv2.circle(frame, center, 75, (255, 0, 255), 10)\n",
    "        \n",
    "    cv2.imshow('MyWindow', frame)\n",
    "    \n",
    "    if cv2.waitKey(1) & 0xFF == ord('q'):\n",
    "        break\n",
    "\n",
    "cap.release()\n",
    "cv2.destroyAllWindows()"
   ]
  }
 ],
 "metadata": {
  "kernelspec": {
   "display_name": "Python 3",
   "language": "python",
   "name": "python3"
  },
  "language_info": {
   "codemirror_mode": {
    "name": "ipython",
    "version": 3
   },
   "file_extension": ".py",
   "mimetype": "text/x-python",
   "name": "python",
   "nbconvert_exporter": "python",
   "pygments_lexer": "ipython3",
   "version": "3.12.3"
  }
 },
 "nbformat": 4,
 "nbformat_minor": 2
}
