{
 "cells": [
  {
   "cell_type": "code",
   "execution_count": 1,
   "metadata": {},
   "outputs": [],
   "source": [
    "import cv2\n",
    "import time\n",
    "\n",
    "\n",
    "cap = cv2.VideoCapture(r\"opencv_2\\media\\video.mp4\") \n",
    "\n",
    "if cap.isOpened() == False: # Videoya bağlanamazsa hata mesajı verir\n",
    "    print(\"Cideoya bağlanamadı\")\n",
    "\n",
    "while cap.isOpened(): # Video açık olduğu sürece çalışır\n",
    "    ret, frame = cap.read()\n",
    "    frame = cv2.resize(frame, (640, 480))\n",
    "    \n",
    "    if ret == True: # Eğer frame okunmuşsa\n",
    "        cv2.imshow(\"Frame\", frame)\n",
    "        time.sleep(1/25) # 25 fps olması için 1/25 saniye bekletir\n",
    "        \n",
    "        if cv2.waitKey(20) & 0xFF == ord(\"q\"): # q tuşuna basıldığında çıkış yapar\n",
    "            break\n",
    "    else:\n",
    "        break\n",
    "    \n",
    "cap.release()\n",
    "cv2.destroyAllWindows()"
   ]
  }
 ],
 "metadata": {
  "kernelspec": {
   "display_name": "Python 3",
   "language": "python",
   "name": "python3"
  },
  "language_info": {
   "codemirror_mode": {
    "name": "ipython",
    "version": 3
   },
   "file_extension": ".py",
   "mimetype": "text/x-python",
   "name": "python",
   "nbconvert_exporter": "python",
   "pygments_lexer": "ipython3",
   "version": "3.12.3"
  }
 },
 "nbformat": 4,
 "nbformat_minor": 2
}
